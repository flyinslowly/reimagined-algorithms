{
 "cells": [
  {
   "cell_type": "code",
   "execution_count": 112,
   "metadata": {},
   "outputs": [
    {
     "name": "stdout",
     "output_type": "stream",
     "text": [
      "Loaded image of shape 274, 300\n"
     ]
    }
   ],
   "source": [
    "from scipy import misc\n",
    "\n",
    "\n",
    "image = misc.imread('../desktop/images/cat.png', mode='RGB')\n",
    "\n",
    "def dist(x, y):\n",
    "    return sum((x - y) ** 2)\n",
    " \n",
    "def get_neighbours(i, j, max_i, max_j):\n",
    "    result = []\n",
    "    if i > 0:\n",
    "        result.append((i - 1, j))\n",
    "    if j > 0:\n",
    "        result.append((i, j - 1))\n",
    "    if (i + 1) < max_i:\n",
    "        result.append((i + 1, j))\n",
    "    if (j + 1) < max_j:\n",
    "        result.append((i, j  + 1))\n",
    " \n",
    "    return result\n",
    " \n",
    "def flip(i, j, A, B):\n",
    "    if (i, j) in A:\n",
    "        A.remove((i, j))\n",
    "        B.add((i, j))\n",
    "    else:\n",
    "        B.remove((i, j))\n",
    "        A.add((i, j))\n",
    " \n",
    "def cut(image):\n",
    "    dim_x, dim_y, colors = image.shape\n",
    "    A = set()\n",
    "    B = {(i, j) for i in range(dim_x) for j in range(dim_y)}\n",
    "    \n",
    "    \n",
    "    for x in range(dim_x):\n",
    "        for y in range(dim_y):\n",
    "            res = get_neighbours(x, y, dim_x, dim_y)\n",
    "            pay_for_being_A, pay_for_being_B = 0, 0\n",
    "            if (x, y) in A:\n",
    "                pay_for_being_A = dist(image[x][y], T)\n",
    "                pay_for_being_B = dist(image[x][y], S)\n",
    "                for neighbour in res:\n",
    "                    if neighbour in B:\n",
    "                        pay_for_being_A += dist(image[neighbour[0]][neighbour[1]], image[x][y])\n",
    "                    else:\n",
    "                        pay_for_being_B += dist(image[neighbour[0]][neighbour[1]], image[x][y])\n",
    "                if (pay_for_being_B < pay_for_being_A):\n",
    "                    flip(x, y, A, B)\n",
    "      \n",
    "            elif (x, y) in B:\n",
    "                pay_for_being_A = dist(image[x][y], T)\n",
    "                pay_for_being_B = dist(image[x][y], S)\n",
    "                for neighbour in res:\n",
    "                    if neighbour in A:\n",
    "                        pay_for_being_B += dist(image[neighbour[0]][neighbour[1]], image[x][y])\n",
    "                    else:\n",
    "                        pay_for_being_A += dist(image[neighbour[0]][neighbour[1]], image[x][y])\n",
    "                if (pay_for_being_A < pay_for_being_B):\n",
    "                    flip(x, y, A, B)\n",
    "\n",
    "    return A, B\n",
    " \n",
    " \n",
    "\n",
    "\n",
    "dim_x, dim_y, colors = image.shape\n",
    "print(\"Loaded image of shape {x}, {y}\".format(x=dim_x, y=dim_y))\n",
    "T = [150, 130, 150] # A\n",
    "S = [255, 255, 255] # B\n",
    "A, B = cut(image)\n",
    "\n",
    "for i in range(dim_x):\n",
    "    for j in range(dim_y):\n",
    "        if (i, j) in A:\n",
    "            image[i, j, 0] = min(255, image[i, j, 0] + 100)\n",
    "            image[i, j, 1] = image[i, j, 1] / 3\n",
    "            image[i, j, 2] = image[i, j, 2] / 3\n",
    "        elif (i,j) in B:\n",
    "            image[i, j, 0] = image[i, j, 0] / 3\n",
    "            image[i, j, 1] = min(255, image[i, j, 1] + 100)\n",
    "            image[i, j, 2] = image[i, j, 2] / 3\n",
    "\n",
    "misc.imsave('out_1.png', image)"
   ]
  },
  {
   "cell_type": "code",
   "execution_count": null,
   "metadata": {
    "collapsed": true
   },
   "outputs": [],
   "source": []
  }
 ],
 "metadata": {
  "kernelspec": {
   "display_name": "Python 2",
   "language": "python",
   "name": "python2"
  },
  "language_info": {
   "codemirror_mode": {
    "name": "ipython",
    "version": 2
   },
   "file_extension": ".py",
   "mimetype": "text/x-python",
   "name": "python",
   "nbconvert_exporter": "python",
   "pygments_lexer": "ipython2",
   "version": "2.7.13"
  }
 },
 "nbformat": 4,
 "nbformat_minor": 2
}
