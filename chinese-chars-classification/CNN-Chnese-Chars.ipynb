{
 "cells": [
  {
   "cell_type": "code",
   "execution_count": 102,
   "metadata": {},
   "outputs": [],
   "source": [
    "import torch\n",
    "import torch.nn as nn\n",
    "import torchvision.transforms as transforms\n",
    "from torch.autograd import Variable"
   ]
  },
  {
   "cell_type": "code",
   "execution_count": null,
   "metadata": {},
   "outputs": [],
   "source": [
    "import numpy as np\n",
    "import matplotlib.pyplot as plt\n",
    "\n",
    "data = np.load('data/train-1.npy')\n",
    "width, height = 8, 8\n",
    "\n",
    "plt.figure(figsize=(16, 20))\n",
    "for n, (image, tag) in enumerate(data, 1):\n",
    "    if n > width * height:\n",
    "        break\n",
    "    plt.subplot(height, width, n)\n",
    "    plt.title(tag)\n",
    "    plt.imshow(image, cmap='gray')"
   ]
  },
  {
   "cell_type": "code",
   "execution_count": 10,
   "metadata": {},
   "outputs": [
    {
     "data": {
      "text/plain": [
       "<matplotlib.image.AxesImage at 0x102ea57b8>"
      ]
     },
     "execution_count": 10,
     "metadata": {},
     "output_type": "execute_result"
    },
    {
     "data": {
      "image/png": "[encoded data removed]",
      "text/plain": [
       "<Figure size 432x288 with 1 Axes>"
      ]
     },
     "metadata": {
      "needs_background": "light"
     },
     "output_type": "display_data"
    }
   ],
   "source": [
    "plt.title(data[0][1])\n",
    "plt.imshow(data[0][0], cmap='gray')\n"
   ]
  },
  {
   "cell_type": "code",
   "execution_count": 6,
   "metadata": {},
   "outputs": [
    {
     "name": "stdout",
     "output_type": "stream",
     "text": [
      "Downloading http://yann.lecun.com/exdb/mnist/train-images-idx3-ubyte.gz\n",
      "Downloading http://yann.lecun.com/exdb/mnist/train-labels-idx1-ubyte.gz\n",
      "Downloading http://yann.lecun.com/exdb/mnist/t10k-images-idx3-ubyte.gz\n",
      "Downloading http://yann.lecun.com/exdb/mnist/t10k-labels-idx1-ubyte.gz\n",
      "Processing...\n",
      "Done!\n"
     ]
    }
   ],
   "source": [
    "train_dataset = datasets.MNIST(root = './data',\n",
    "                              train=True,\n",
    "                              transform = transforms.ToTensor(),\n",
    "                              download = True)\n",
    "\n",
    "test_dataset = datasets.MNIST(root = './data',\n",
    "                             train = False, \n",
    "                             transform = transforms.ToTensor())"
   ]
  },
  {
   "cell_type": "code",
   "execution_count": 40,
   "metadata": {},
   "outputs": [],
   "source": [
    "batch_size = 100\n",
    "epochs = 5"
   ]
  },
  {
   "cell_type": "code",
   "execution_count": 41,
   "metadata": {},
   "outputs": [],
   "source": [
    "train_load = torch.utils.data.DataLoader(dataset = train_dataset,\n",
    "                                         batch_size =batch_size,\n",
    "                                         shuffle = True)\n",
    "\n",
    "test_load = torch.utils.data.DataLoader(dataset = test_dataset,\n",
    "                                        batch_size = batch_size,\n",
    "                                        shuffle = False)"
   ]
  },
  {
   "cell_type": "code",
   "execution_count": 98,
   "metadata": {},
   "outputs": [],
   "source": [
    "class CNN(nn.Module):\n",
    "    def __init__(self):\n",
    "        super(CNN,self).__init__()\n",
    "        self.cnn1 = nn.Conv2d(in_channels=1, out_channels=8, kernel_size=3, stride=1, padding=1)\n",
    "        self.batchnorm1 = nn.BatchNorm2d(8)\n",
    "        self.relu = nn.ReLU()\n",
    "        self.maxpool1 = nn.MaxPool2d(kernel_size=2)\n",
    "        self.cnn2 = nn.Conv2d(in_channels=8, out_channels=32, kernel_size=5, stride=1, padding=2)\n",
    "        self.batchnorm2 = nn.BatchNorm2d(32)\n",
    "        self.maxpool2 = nn.MaxPool2d(kernel_size=2)\n",
    "        self.fc1 = nn.Linear(in_features=1568, out_features=600)\n",
    "        self.dropout = nn.Dropout(p=0.5)\n",
    "        self.fc2 = nn.Linear(in_features=600, out_features=10)\n",
    "        \n",
    "    def forward(self, X):\n",
    "        #out = self.maxpool1(self.relu(self.batchnorm1(self.cnn1(X))))\n",
    "        #out = self.maxpool2(self.relu(self.batchnorm2(self.cnn2(out))))\n",
    "        \n",
    "        out = self.cnn1(X)\n",
    "        out = self.batchnorm1(out)\n",
    "        out = self.relu(out)\n",
    "        out = self.maxpool1(out)\n",
    "        out = self.cnn2(out)\n",
    "        out = self.batchnorm2(out)\n",
    "        out = self.relu(out)\n",
    "        out = self.maxpool2(out)\n",
    "        \n",
    "        out = out.view(100, 1568)\n",
    "        \n",
    "        out = self.fc1(out)\n",
    "        out = self.relu(out)\n",
    "        out = self.dropout(out)\n",
    "        out = self.fc2(out)\n",
    "        return out"
   ]
  },
  {
   "cell_type": "code",
   "execution_count": 99,
   "metadata": {},
   "outputs": [],
   "source": [
    "model = CNN()\n",
    "loss_fn = nn.CrossEntropyLoss()\n",
    "optimizer = torch.optim.SGD(model.parameters(), lr = 0.01)"
   ]
  },
  {
   "cell_type": "code",
   "execution_count": 101,
   "metadata": {},
   "outputs": [
    {
     "name": "stderr",
     "output_type": "stream",
     "text": [
      "/Users/max/miniconda3/lib/python3.7/site-packages/ipykernel_launcher.py:25: UserWarning: invalid index of a 0-dim tensor. This will be an error in PyTorch 0.5. Use tensor.item() to convert a 0-dim tensor to a Python number\n"
     ]
    },
    {
     "name": "stdout",
     "output_type": "stream",
     "text": [
      "Iteration: 100, Train Loss: 0.4073042571544647, Test Accuracy 90%\n",
      "Iteration: 200, Train Loss: 0.2470310777425766, Test Accuracy 92%\n",
      "Iteration: 300, Train Loss: 0.30108842253685, Test Accuracy 93%\n",
      "Iteration: 400, Train Loss: 0.16849829256534576, Test Accuracy 94%\n",
      "Iteration: 500, Train Loss: 0.2140980213880539, Test Accuracy 94%\n",
      "Iteration: 600, Train Loss: 0.2014293074607849, Test Accuracy 94%\n",
      "0 Done!\n",
      "Iteration: 700, Train Loss: 0.1619139462709427, Test Accuracy 95%\n",
      "Iteration: 800, Train Loss: 0.1518113762140274, Test Accuracy 95%\n",
      "Iteration: 900, Train Loss: 0.17626133561134338, Test Accuracy 95%\n",
      "Iteration: 1000, Train Loss: 0.14157715439796448, Test Accuracy 96%\n",
      "Iteration: 1100, Train Loss: 0.13786804676055908, Test Accuracy 96%\n",
      "Iteration: 1200, Train Loss: 0.132792666554451, Test Accuracy 96%\n",
      "1 Done!\n",
      "Iteration: 1300, Train Loss: 0.09314026683568954, Test Accuracy 96%\n",
      "Iteration: 1400, Train Loss: 0.13499867916107178, Test Accuracy 96%\n",
      "Iteration: 1500, Train Loss: 0.12472827732563019, Test Accuracy 96%\n",
      "Iteration: 1600, Train Loss: 0.0924164354801178, Test Accuracy 96%\n",
      "Iteration: 1700, Train Loss: 0.10826882719993591, Test Accuracy 97%\n",
      "Iteration: 1800, Train Loss: 0.11876778304576874, Test Accuracy 97%\n",
      "2 Done!\n",
      "Iteration: 1900, Train Loss: 0.10724279284477234, Test Accuracy 97%\n",
      "Iteration: 2000, Train Loss: 0.11159437149763107, Test Accuracy 97%\n",
      "Iteration: 2100, Train Loss: 0.09402833133935928, Test Accuracy 97%\n",
      "Iteration: 2200, Train Loss: 0.0706348717212677, Test Accuracy 97%\n",
      "Iteration: 2300, Train Loss: 0.08042342215776443, Test Accuracy 97%\n",
      "Iteration: 2400, Train Loss: 0.06234727427363396, Test Accuracy 97%\n",
      "3 Done!\n",
      "Iteration: 2500, Train Loss: 0.05194185674190521, Test Accuracy 97%\n",
      "Iteration: 2600, Train Loss: 0.12188529223203659, Test Accuracy 97%\n",
      "Iteration: 2700, Train Loss: 0.033822644501924515, Test Accuracy 97%\n",
      "Iteration: 2800, Train Loss: 0.12737752497196198, Test Accuracy 97%\n",
      "Iteration: 2900, Train Loss: 0.04833577573299408, Test Accuracy 97%\n",
      "Iteration: 3000, Train Loss: 0.10771112143993378, Test Accuracy 97%\n",
      "4 Done!\n"
     ]
    }
   ],
   "source": [
    "iter = 0\n",
    "for epoch in range(epochs):\n",
    "    for i, (images, labels) in enumerate(train_load):\n",
    "        iter += 1\n",
    "        \n",
    "        images = Variable(images)\n",
    "        labels = Variable(labels)\n",
    "        \n",
    "        optimizer.zero_grad()\n",
    "        outputs = model(images)\n",
    "        loss = loss_fn(outputs, labels)\n",
    "        loss.backward()\n",
    "        optimizer.step()\n",
    "        \n",
    "        if (i + 1) % 100 == 0:\n",
    "            correct = 0\n",
    "            total = 0\n",
    "            for images, labels in test_load:\n",
    "                images = Variable(images)\n",
    "                outputs = model(images)\n",
    "                _, predicted = torch.max(outputs.data, 1)\n",
    "                total += labels.size(0)\n",
    "                correct += (predicted==labels).sum()\n",
    "            accuracy = 100 * correct/total\n",
    "            print('Iteration: {}, Train Loss: {}, Test Accuracy {}%'.format(iter, loss.data[0], accuracy))\n",
    "    print(epoch, \"Done!\")"
   ]
  },
  {
   "cell_type": "code",
   "execution_count": null,
   "metadata": {},
   "outputs": [],
   "source": []
  }
 ],
 "metadata": {
  "kernelspec": {
   "display_name": "Python 3",
   "language": "python",
   "name": "python3"
  },
  "language_info": {
   "codemirror_mode": {
    "name": "ipython",
    "version": 3
   },
   "file_extension": ".py",
   "mimetype": "text/x-python",
   "name": "python",
   "nbconvert_exporter": "python",
   "pygments_lexer": "ipython3",
   "version": "3.7.1"
  }
 },
 "nbformat": 4,
 "nbformat_minor": 2
}
