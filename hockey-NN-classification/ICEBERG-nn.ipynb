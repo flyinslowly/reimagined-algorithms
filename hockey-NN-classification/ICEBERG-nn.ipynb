{
 "cells": [
  {
   "cell_type": "code",
   "execution_count": 1,
   "metadata": {},
   "outputs": [],
   "source": [
    "import numpy as np\n",
    "import matplotlib.pyplot as plt\n",
    "import torch\n",
    "import torch.nn as nn\n",
    "import torchvision.transforms as transforms\n",
    "import torchvision.datasets as datasets\n",
    "import torch.utils.data as utils\n",
    "from torch.autograd import Variable\n",
    "from skimage import io, transform\n",
    "from sklearn.model_selection import train_test_split\n",
    "import PIL\n",
    "import os\n",
    "from PIL import Image\n",
    "import dataloader as dl"
   ]
  },
  {
   "cell_type": "code",
   "execution_count": 2,
   "metadata": {},
   "outputs": [],
   "source": [
    "folder = 'game1'\n",
    "labels = !cd $folder && ls\n",
    "X, y = dl.make_dataset(folder, labels)"
   ]
  },
  {
   "cell_type": "code",
   "execution_count": 3,
   "metadata": {},
   "outputs": [],
   "source": [
    "X_train, X_test, y_train, y_test = train_test_split(X, y, test_size=0.20, random_state=42)"
   ]
  },
  {
   "cell_type": "code",
   "execution_count": 4,
   "metadata": {},
   "outputs": [],
   "source": [
    "batch_size = 8\n",
    "\n",
    "custom_transform = {'train': transforms.Compose([\n",
    "                                transforms.RandomAffine(20),\n",
    "                                transforms.RandomVerticalFlip(0.3),\n",
    "                                transforms.RandomHorizontalFlip(0.3),\n",
    "                                transforms.ToTensor()\n",
    "                            ]),\n",
    "                    \n",
    "                    'test': transforms.Compose([\n",
    "                              transforms.ToTensor()  \n",
    "                            ])}\n",
    "\n",
    "tensor_train = dl.CustomDataset(X_train, y_train, custom_transform['train'])\n",
    "\n",
    "train_load = torch.utils.data.DataLoader(dataset = tensor_train,\n",
    "                              batch_size = batch_size) # create your dataloader\n",
    "\n",
    "\n",
    "# tensoring test\n",
    "tensor_test = dl.CustomDataset(X_test, y_test, custom_transform['test'])\n",
    "\n",
    "test_load = torch.utils.data.DataLoader(dataset = tensor_test,\n",
    "                             batch_size = batch_size) # create your dataloader"
   ]
  },
  {
   "cell_type": "code",
   "execution_count": 5,
   "metadata": {},
   "outputs": [],
   "source": [
    "import model_arch\n",
    "\n",
    "model = model_arch.CNN()\n",
    "loss_fn = nn.CrossEntropyLoss()\n",
    "optimizer = torch.optim.Adam(model.parameters(), lr = 0.001)"
   ]
  },
  {
   "cell_type": "code",
   "execution_count": 6,
   "metadata": {},
   "outputs": [
    {
     "name": "stderr",
     "output_type": "stream",
     "text": [
      "/Users/max/Desktop/Job/Iceberg/train.py:34: UserWarning: invalid index of a 0-dim tensor. This will be an error in PyTorch 0.5. Use tensor.item() to convert a 0-dim tensor to a Python number\n",
      "  print(epoch, \"Done!\", 'Train iteration: {}, Train Loss: {}, Test Accuracy {}%'.format(iter, loss.data[0], accuracy))\n"
     ]
    },
    {
     "name": "stdout",
     "output_type": "stream",
     "text": [
      "0 Done! Train iteration: 18, Train Loss: 0.47273045778274536, Test Accuracy 60%\n",
      "1 Done! Train iteration: 36, Train Loss: 0.3896391987800598, Test Accuracy 68%\n",
      "2 Done! Train iteration: 54, Train Loss: 0.39489442110061646, Test Accuracy 82%\n",
      "3 Done! Train iteration: 72, Train Loss: 0.18641221523284912, Test Accuracy 82%\n",
      "4 Done! Train iteration: 90, Train Loss: 0.2362179011106491, Test Accuracy 88%\n",
      "5 Done! Train iteration: 108, Train Loss: 0.15449844300746918, Test Accuracy 91%\n",
      "6 Done! Train iteration: 126, Train Loss: 0.09756721556186676, Test Accuracy 91%\n",
      "7 Done! Train iteration: 144, Train Loss: 0.04424533247947693, Test Accuracy 94%\n",
      "8 Done! Train iteration: 162, Train Loss: 0.07842659950256348, Test Accuracy 94%\n",
      "9 Done! Train iteration: 180, Train Loss: 0.07907624542713165, Test Accuracy 94%\n",
      "10 Done! Train iteration: 198, Train Loss: 0.05714735388755798, Test Accuracy 94%\n",
      "11 Done! Train iteration: 216, Train Loss: 0.11504581570625305, Test Accuracy 94%\n",
      "12 Done! Train iteration: 234, Train Loss: 0.044801533222198486, Test Accuracy 100%\n",
      "13 Done! Train iteration: 252, Train Loss: 0.024848490953445435, Test Accuracy 97%\n",
      "14 Done! Train iteration: 270, Train Loss: 0.06380748748779297, Test Accuracy 97%\n",
      "15 Done! Train iteration: 288, Train Loss: 0.03211888670921326, Test Accuracy 100%\n",
      "16 Done! Train iteration: 306, Train Loss: 0.06747571378946304, Test Accuracy 100%\n",
      "17 Done! Train iteration: 324, Train Loss: 0.02253347635269165, Test Accuracy 100%\n",
      "18 Done! Train iteration: 342, Train Loss: 0.013632982969284058, Test Accuracy 100%\n",
      "19 Done! Train iteration: 360, Train Loss: 0.14252087473869324, Test Accuracy 100%\n",
      "20 Done! Train iteration: 378, Train Loss: 0.012495726346969604, Test Accuracy 100%\n",
      "21 Done! Train iteration: 396, Train Loss: 0.029537737369537354, Test Accuracy 100%\n",
      "22 Done! Train iteration: 414, Train Loss: 0.027740687131881714, Test Accuracy 100%\n",
      "23 Done! Train iteration: 432, Train Loss: 0.051480889320373535, Test Accuracy 100%\n",
      "24 Done! Train iteration: 450, Train Loss: 0.017955929040908813, Test Accuracy 100%\n"
     ]
    }
   ],
   "source": [
    "from train import model_train\n",
    "\n",
    "model_train(model, optimizer, loss_fn, train_load, test_load, epochs=25)"
   ]
  },
  {
   "cell_type": "code",
   "execution_count": null,
   "metadata": {},
   "outputs": [],
   "source": []
  },
  {
   "cell_type": "code",
   "execution_count": null,
   "metadata": {},
   "outputs": [],
   "source": []
  }
 ],
 "metadata": {
  "kernelspec": {
   "display_name": "Python 3",
   "language": "python",
   "name": "python3"
  },
  "language_info": {
   "codemirror_mode": {
    "name": "ipython",
    "version": 3
   },
   "file_extension": ".py",
   "mimetype": "text/x-python",
   "name": "python",
   "nbconvert_exporter": "python",
   "pygments_lexer": "ipython3",
   "version": "3.7.1"
  }
 },
 "nbformat": 4,
 "nbformat_minor": 2
}
